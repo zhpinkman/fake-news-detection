{
 "cells": [
  {
   "cell_type": "markdown",
   "id": "d1862304",
   "metadata": {
    "colab_type": "text",
    "id": "view-in-github"
   },
   "source": [
    "<a href=\"https://colab.research.google.com/github/zhpinkman/fake-news-detection/blob/master/main.ipynb\" target=\"_parent\"><img src=\"https://colab.research.google.com/assets/colab-badge.svg\" alt=\"Open In Colab\"/></a>"
   ]
  },
  {
   "cell_type": "markdown",
   "id": "b38718f0-5d86-4579-b38d-3fb17a990dd9",
   "metadata": {
    "id": "b38718f0-5d86-4579-b38d-3fb17a990dd9",
    "tags": []
   },
   "source": [
    "### Import the required libraries"
   ]
  },
  {
   "cell_type": "code",
   "execution_count": 1,
   "id": "1141c10a-0807-4101-a94c-cb581f7aee1e",
   "metadata": {
    "id": "1141c10a-0807-4101-a94c-cb581f7aee1e"
   },
   "outputs": [],
   "source": [
    "import numpy as np\n",
    "import pandas as pd\n",
    "\n",
    "import torch\n",
    "import torch as th\n",
    "from torch.utils.data import DataLoader, Dataset\n",
    "import torch.nn.functional as f\n",
    "\n",
    "import seaborn as sns\n",
    "import matplotlib.pyplot as plt\n",
    "\n",
    "from torch import optim\n",
    "from wordcloud import WordCloud\n",
    "\n",
    "import torch.nn as nn\n",
    "\n",
    "import re\n",
    "from sklearn.model_selection import train_test_split\n",
    "from tqdm.notebook import tqdm\n",
    "from transformers import BertForSequenceClassification, BertTokenizer, AutoModelForSequenceClassification, AutoTokenizer, BertModel"
   ]
  },
  {
   "cell_type": "markdown",
   "id": "6f13e3bd-48ae-4d21-9db6-c99a99893a75",
   "metadata": {
    "id": "6f13e3bd-48ae-4d21-9db6-c99a99893a75",
    "tags": []
   },
   "source": [
    "### Get the data and remove the duplicates and NaNs"
   ]
  },
  {
   "cell_type": "code",
   "execution_count": 2,
   "id": "adfcbf01-708d-4363-aac8-112d9862bb04",
   "metadata": {
    "colab": {
     "base_uri": "https://localhost:8080/"
    },
    "id": "adfcbf01-708d-4363-aac8-112d9862bb04",
    "outputId": "18a9e1eb-37bf-48ad-8556-18d3f851ad92"
   },
   "outputs": [
    {
     "name": "stdout",
     "output_type": "stream",
     "text": [
      "bert_submit.csv\n",
      "train.csv\n"
     ]
    }
   ],
   "source": [
    "ls | grep csv"
   ]
  },
  {
   "cell_type": "code",
   "execution_count": 3,
   "id": "e83cdea4-1b9d-4537-9360-88dda9085bfa",
   "metadata": {
    "id": "e83cdea4-1b9d-4537-9360-88dda9085bfa"
   },
   "outputs": [],
   "source": [
    "train_df = pd.read_csv('train.csv')\n",
    "# test_df = pd.read_csv('test.csv')"
   ]
  },
  {
   "cell_type": "code",
   "execution_count": 4,
   "id": "fe146901-9a15-44f2-be62-db689a9bc5c1",
   "metadata": {
    "colab": {
     "base_uri": "https://localhost:8080/"
    },
    "id": "fe146901-9a15-44f2-be62-db689a9bc5c1",
    "outputId": "9a74d678-0ac6-4b13-c6f6-0d8ad7bc4bc8"
   },
   "outputs": [
    {
     "name": "stdout",
     "output_type": "stream",
     "text": [
      "<class 'pandas.core.frame.DataFrame'>\n",
      "RangeIndex: 20800 entries, 0 to 20799\n",
      "Data columns (total 5 columns):\n",
      " #   Column  Non-Null Count  Dtype \n",
      "---  ------  --------------  ----- \n",
      " 0   id      20800 non-null  int64 \n",
      " 1   title   20242 non-null  object\n",
      " 2   author  18843 non-null  object\n",
      " 3   text    20761 non-null  object\n",
      " 4   label   20800 non-null  int64 \n",
      "dtypes: int64(2), object(3)\n",
      "memory usage: 812.6+ KB\n"
     ]
    }
   ],
   "source": [
    "train_df.info()"
   ]
  },
  {
   "cell_type": "code",
   "execution_count": 5,
   "id": "7fddaef2-cfd7-46f4-a7a8-5214bd515249",
   "metadata": {
    "id": "7fddaef2-cfd7-46f4-a7a8-5214bd515249"
   },
   "outputs": [],
   "source": [
    "def combine_columns(row): \n",
    "    return str(row['text']) + ' ' + str(row['title'])"
   ]
  },
  {
   "cell_type": "code",
   "execution_count": 6,
   "id": "354f1989-7e25-47a3-98c9-5764b5a43634",
   "metadata": {
    "id": "354f1989-7e25-47a3-98c9-5764b5a43634"
   },
   "outputs": [],
   "source": [
    "train_df['text_title'] = train_df.apply(combine_columns, axis=1)"
   ]
  },
  {
   "cell_type": "code",
   "execution_count": 7,
   "id": "f71119e4-8d06-47f4-a78e-00742323106c",
   "metadata": {
    "id": "f71119e4-8d06-47f4-a78e-00742323106c"
   },
   "outputs": [],
   "source": [
    "train_df.dropna(subset=['text_title'], inplace=True)\n",
    "train_df.drop_duplicates(subset='text_title', inplace=True)"
   ]
  },
  {
   "cell_type": "code",
   "execution_count": 8,
   "id": "050fc89b-5f43-42d0-8862-6db8d08ed493",
   "metadata": {
    "colab": {
     "base_uri": "https://localhost:8080/"
    },
    "id": "050fc89b-5f43-42d0-8862-6db8d08ed493",
    "outputId": "6ee3f531-2193-4312-d5cf-4060abf84fa2"
   },
   "outputs": [
    {
     "name": "stdout",
     "output_type": "stream",
     "text": [
      "<class 'pandas.core.frame.DataFrame'>\n",
      "Int64Index: 20690 entries, 0 to 20799\n",
      "Data columns (total 6 columns):\n",
      " #   Column      Non-Null Count  Dtype \n",
      "---  ------      --------------  ----- \n",
      " 0   id          20690 non-null  int64 \n",
      " 1   title       20172 non-null  object\n",
      " 2   author      18758 non-null  object\n",
      " 3   text        20651 non-null  object\n",
      " 4   label       20690 non-null  int64 \n",
      " 5   text_title  20690 non-null  object\n",
      "dtypes: int64(2), object(4)\n",
      "memory usage: 1.1+ MB\n"
     ]
    }
   ],
   "source": [
    "train_df.info()"
   ]
  },
  {
   "cell_type": "code",
   "execution_count": 9,
   "id": "88592e9d-9319-4297-b8d9-1954917915f3",
   "metadata": {
    "id": "88592e9d-9319-4297-b8d9-1954917915f3"
   },
   "outputs": [],
   "source": [
    "train_df.drop(columns=['title', 'author', 'text'], inplace=True)"
   ]
  },
  {
   "cell_type": "code",
   "execution_count": 10,
   "id": "3a896a36-be3a-4d7e-be67-04deebb5a040",
   "metadata": {
    "colab": {
     "base_uri": "https://localhost:8080/",
     "height": 143
    },
    "id": "3a896a36-be3a-4d7e-be67-04deebb5a040",
    "outputId": "138e8ed8-8e8d-421c-96d0-5c5fb8ced74b"
   },
   "outputs": [
    {
     "data": {
      "text/html": [
       "<div>\n",
       "<style scoped>\n",
       "    .dataframe tbody tr th:only-of-type {\n",
       "        vertical-align: middle;\n",
       "    }\n",
       "\n",
       "    .dataframe tbody tr th {\n",
       "        vertical-align: top;\n",
       "    }\n",
       "\n",
       "    .dataframe thead th {\n",
       "        text-align: right;\n",
       "    }\n",
       "</style>\n",
       "<table border=\"1\" class=\"dataframe\">\n",
       "  <thead>\n",
       "    <tr style=\"text-align: right;\">\n",
       "      <th></th>\n",
       "      <th>id</th>\n",
       "      <th>label</th>\n",
       "      <th>text_title</th>\n",
       "    </tr>\n",
       "  </thead>\n",
       "  <tbody>\n",
       "    <tr>\n",
       "      <th>0</th>\n",
       "      <td>0</td>\n",
       "      <td>1</td>\n",
       "      <td>House Dem Aide: We Didn’t Even See Comey’s Let...</td>\n",
       "    </tr>\n",
       "    <tr>\n",
       "      <th>1</th>\n",
       "      <td>1</td>\n",
       "      <td>0</td>\n",
       "      <td>Ever get the feeling your life circles the rou...</td>\n",
       "    </tr>\n",
       "    <tr>\n",
       "      <th>2</th>\n",
       "      <td>2</td>\n",
       "      <td>1</td>\n",
       "      <td>Why the Truth Might Get You Fired October 29, ...</td>\n",
       "    </tr>\n",
       "  </tbody>\n",
       "</table>\n",
       "</div>"
      ],
      "text/plain": [
       "   id  label                                         text_title\n",
       "0   0      1  House Dem Aide: We Didn’t Even See Comey’s Let...\n",
       "1   1      0  Ever get the feeling your life circles the rou...\n",
       "2   2      1  Why the Truth Might Get You Fired October 29, ..."
      ]
     },
     "execution_count": 10,
     "metadata": {},
     "output_type": "execute_result"
    }
   ],
   "source": [
    "train_df.head(3)"
   ]
  },
  {
   "cell_type": "code",
   "execution_count": 11,
   "id": "1d617813-4ebc-4549-b8ad-fcb60eb3e8a4",
   "metadata": {
    "id": "1d617813-4ebc-4549-b8ad-fcb60eb3e8a4"
   },
   "outputs": [],
   "source": [
    "id2label = {\n",
    "    0: 'real', \n",
    "    1: 'fake'\n",
    "}\n",
    "label2id = {val: key for key, val in id2label.items()}"
   ]
  },
  {
   "cell_type": "code",
   "execution_count": 12,
   "id": "479cea95-974a-4e60-aabb-67248827ff88",
   "metadata": {
    "colab": {
     "base_uri": "https://localhost:8080/",
     "height": 298
    },
    "id": "479cea95-974a-4e60-aabb-67248827ff88",
    "outputId": "b35c6c6d-e18c-4e45-f40b-37ab60a5e912"
   },
   "outputs": [
    {
     "data": {
      "text/plain": [
       "<AxesSubplot:xlabel='label', ylabel='count'>"
      ]
     },
     "execution_count": 12,
     "metadata": {},
     "output_type": "execute_result"
    },
    {
     "data": {
      "image/png": "[encoded data removed]",
      "text/plain": [
       "<Figure size 432x288 with 1 Axes>"
      ]
     },
     "metadata": {
      "needs_background": "light"
     },
     "output_type": "display_data"
    }
   ],
   "source": [
    "sns.countplot(data=train_df, x='label')"
   ]
  },
  {
   "cell_type": "markdown",
   "id": "8e2c233a-f6cd-40cb-8be9-8ee8cdc5ab70",
   "metadata": {
    "id": "8e2c233a-f6cd-40cb-8be9-8ee8cdc5ab70",
    "tags": []
   },
   "source": [
    "### Number of Characters in the Text"
   ]
  },
  {
   "cell_type": "code",
   "execution_count": 13,
   "id": "a5d22741-1b55-45fd-ba6c-829e19044918",
   "metadata": {
    "colab": {
     "base_uri": "https://localhost:8080/",
     "height": 533
    },
    "id": "a5d22741-1b55-45fd-ba6c-829e19044918",
    "outputId": "f484635c-4a31-430f-d99b-bfb6f121086f"
   },
   "outputs": [
    {
     "data": {
      "text/plain": [
       "Text(0.5, 1.0, 'Number of characters in the news that are labeled as real')"
      ]
     },
     "execution_count": 13,
     "metadata": {},
     "output_type": "execute_result"
    },
    {
     "data": {
      "image/png": "[encoded data removed]",
      "text/plain": [
       "<Figure size 1080x576 with 2 Axes>"
      ]
     },
     "metadata": {
      "needs_background": "light"
     },
     "output_type": "display_data"
    }
   ],
   "source": [
    "fig, axs = plt.subplots(figsize=(15, 8), ncols=2)\n",
    "text_lens = train_df[train_df['label'] == 1]['text_title'].apply(lambda x: len(x.split()))\n",
    "sns.histplot(text_lens, ax=axs[0])\n",
    "axs[0].set_title('Number of characters in the news that are labeled as fake')\n",
    "text_lens = train_df[train_df['label'] == 0]['text_title'].apply(lambda x: len(x.split()))\n",
    "sns.histplot(text_lens, ax=axs[1])\n",
    "axs[1].set_title('Number of characters in the news that are labeled as real')"
   ]
  },
  {
   "cell_type": "markdown",
   "id": "664949bf-461d-4e44-b604-4697d65a8ed4",
   "metadata": {
    "id": "664949bf-461d-4e44-b604-4697d65a8ed4",
    "tags": []
   },
   "source": [
    "### Word Cloud"
   ]
  },
  {
   "cell_type": "code",
   "execution_count": 14,
   "id": "9846eeaa-54fe-438c-83d2-d7e92a7ccc5f",
   "metadata": {
    "id": "9846eeaa-54fe-438c-83d2-d7e92a7ccc5f"
   },
   "outputs": [],
   "source": [
    "# fake_text = ' '.join(train_df[train_df['label'] == 1]['text_title'].tolist())\n",
    "# wc = WordCloud()\n",
    "# wc_obj = wc.generate(fake_text)\n",
    "# plt.figure(figsize=(10, 8))\n",
    "# plt.imshow(wc_obj)\n",
    "# plt.axis('off')\n",
    "# plt.show()"
   ]
  },
  {
   "cell_type": "code",
   "execution_count": 15,
   "id": "70186da1-64c3-4e09-abd4-68be677d21e8",
   "metadata": {
    "id": "70186da1-64c3-4e09-abd4-68be677d21e8"
   },
   "outputs": [],
   "source": [
    "# real_text = ' '.join(train_df[train_df['label'] == 0]['text_title'].tolist())\n",
    "# wc = WordCloud()\n",
    "# wc_obj = wc.generate(real_text)\n",
    "# plt.figure(figsize=(10, 8))\n",
    "# plt.imshow(wc_obj)\n",
    "# plt.axis('off')\n",
    "# plt.show()"
   ]
  },
  {
   "cell_type": "markdown",
   "id": "59f0d361-6dbf-497d-a548-e9e559e75f20",
   "metadata": {
    "id": "59f0d361-6dbf-497d-a548-e9e559e75f20"
   },
   "source": [
    "### Loading the dataset"
   ]
  },
  {
   "cell_type": "code",
   "execution_count": 16,
   "id": "6e09530d-c751-4fe2-bfd4-dc99bf15abb5",
   "metadata": {
    "id": "6e09530d-c751-4fe2-bfd4-dc99bf15abb5"
   },
   "outputs": [],
   "source": [
    "def text_cleaning(text: str) -> str:\n",
    "    text = re.sub(\"[^a-zA-Z]\", \" \", text) # removing punctuation\n",
    "    return text"
   ]
  },
  {
   "cell_type": "code",
   "execution_count": 17,
   "id": "2f2bd3ed-8848-4652-bbe4-769448a1c5be",
   "metadata": {
    "id": "2f2bd3ed-8848-4652-bbe4-769448a1c5be"
   },
   "outputs": [],
   "source": [
    "train_df['text'] = train_df['text_title'].apply(text_cleaning)"
   ]
  },
  {
   "cell_type": "code",
   "execution_count": 18,
   "id": "1c2ff2de-256c-4903-a112-0c0fb42312d0",
   "metadata": {
    "id": "1c2ff2de-256c-4903-a112-0c0fb42312d0"
   },
   "outputs": [],
   "source": [
    "train_split, val_split = train_test_split(train_df, stratify=train_df['label'], test_size=.2)"
   ]
  },
  {
   "cell_type": "code",
   "execution_count": 19,
   "id": "7eb8adf0-3e83-49cb-88aa-f5385232b9db",
   "metadata": {
    "id": "7eb8adf0-3e83-49cb-88aa-f5385232b9db"
   },
   "outputs": [],
   "source": [
    "class NewsDataset(Dataset):\n",
    "    def __init__(self, tokenizer: BertTokenizer, split):\n",
    "        self.texts = split['text_title'].tolist()\n",
    "        self.labels = split['label'].tolist()\n",
    "        self.tokenizer = tokenizer\n",
    "        \n",
    "    def __getitem__(self, index):\n",
    "        text = self.texts[index]\n",
    "        encoded_text = tokenizer(\n",
    "            text = text, \n",
    "            padding='max_length',\n",
    "            truncation=True,\n",
    "            return_tensors='pt',\n",
    "            return_attention_mask=True\n",
    "        )\n",
    "        return encoded_text['input_ids'], encoded_text['attention_mask'], self.labels[index]\n",
    "    def __len__(self):\n",
    "        return len(self.texts)"
   ]
  },
  {
   "cell_type": "code",
   "execution_count": 20,
   "id": "d699f510-d8fa-4e37-ab00-431a5986b849",
   "metadata": {
    "id": "d699f510-d8fa-4e37-ab00-431a5986b849"
   },
   "outputs": [],
   "source": [
    "tokenizer = BertTokenizer.from_pretrained('bert-base-cased')\n",
    "train_ds = NewsDataset(tokenizer, train_split)\n",
    "val_ds = NewsDataset(tokenizer, val_split)\n",
    "\n",
    "train_dl = DataLoader(train_ds, batch_size=4, shuffle=True)\n",
    "val_dl = DataLoader(val_ds, batch_size=4, shuffle=False)"
   ]
  },
  {
   "cell_type": "code",
   "execution_count": 21,
   "id": "9989a0bc-1cd6-4a54-adbd-640f520bc660",
   "metadata": {
    "colab": {
     "base_uri": "https://localhost:8080/"
    },
    "id": "9989a0bc-1cd6-4a54-adbd-640f520bc660",
    "outputId": "c2d77fb3-447e-4cd1-b7e9-90a1d0f97bb5"
   },
   "outputs": [
    {
     "name": "stdout",
     "output_type": "stream",
     "text": [
      "torch.Size([4, 1, 512]) torch.Size([4, 1, 512]) torch.Size([4])\n"
     ]
    }
   ],
   "source": [
    "for input_ids, attention_mask, labels in train_dl:\n",
    "    print(input_ids.shape, attention_mask.shape, labels.shape)\n",
    "    break"
   ]
  },
  {
   "cell_type": "markdown",
   "id": "85de722d-ed77-408c-9758-ba7e60190514",
   "metadata": {
    "id": "85de722d-ed77-408c-9758-ba7e60190514"
   },
   "source": [
    "### Model"
   ]
  },
  {
   "cell_type": "code",
   "execution_count": 22,
   "id": "b7d314cb-40f0-4850-a7bc-2b087800ced0",
   "metadata": {
    "id": "b7d314cb-40f0-4850-a7bc-2b087800ced0"
   },
   "outputs": [],
   "source": [
    "device = th.device('cuda') if th.cuda.is_available() else th.device('cpu')"
   ]
  },
  {
   "cell_type": "code",
   "execution_count": 23,
   "id": "7a6e799c-d5fb-4578-9adc-128a5d9c61ab",
   "metadata": {
    "id": "7a6e799c-d5fb-4578-9adc-128a5d9c61ab"
   },
   "outputs": [],
   "source": [
    "class FakeNewsClassifier(nn.Module):\n",
    "    def __init__(self):\n",
    "        super(FakeNewsClassifier, self).__init__()\n",
    "        \n",
    "        D_in, H, D_out = 768, 50, 2\n",
    "\n",
    "        self.bert = BertModel.from_pretrained('bert-base-cased')\n",
    "\n",
    "        self.classifier = nn.Sequential(\n",
    "            nn.Linear(D_in, H),\n",
    "            nn.ReLU(),\n",
    "            nn.Dropout(0.5),\n",
    "            nn.Linear(H, D_out)\n",
    "        )\n",
    "\n",
    "    \n",
    "    def forward(self, input_ids, attention_mask):\n",
    "        outputs = self.bert(input_ids=input_ids, attention_mask=attention_mask)\n",
    "\n",
    "        \n",
    "        last_hidden_state_cls = outputs.last_hidden_state[:, 0, :]\n",
    "\n",
    "        # Feed input to classifier to compute logits\n",
    "        logits = self.classifier(last_hidden_state_cls)\n",
    "        \n",
    "        return logits"
   ]
  },
  {
   "cell_type": "code",
   "execution_count": 24,
   "id": "f8834f92-4d22-47b8-bf2a-69da9c245d00",
   "metadata": {
    "colab": {
     "base_uri": "https://localhost:8080/"
    },
    "id": "f8834f92-4d22-47b8-bf2a-69da9c245d00",
    "outputId": "3088c98f-85c3-46a8-cfa8-4dd7171414d2"
   },
   "outputs": [
    {
     "name": "stderr",
     "output_type": "stream",
     "text": [
      "Some weights of the model checkpoint at bert-base-cased were not used when initializing BertModel: ['cls.predictions.transform.dense.bias', 'cls.predictions.transform.dense.weight', 'cls.predictions.transform.LayerNorm.bias', 'cls.seq_relationship.bias', 'cls.seq_relationship.weight', 'cls.predictions.transform.LayerNorm.weight', 'cls.predictions.bias', 'cls.predictions.decoder.weight']\n",
      "- This IS expected if you are initializing BertModel from the checkpoint of a model trained on another task or with another architecture (e.g. initializing a BertForSequenceClassification model from a BertForPreTraining model).\n",
      "- This IS NOT expected if you are initializing BertModel from the checkpoint of a model that you expect to be exactly identical (initializing a BertForSequenceClassification model from a BertForSequenceClassification model).\n"
     ]
    },
    {
     "name": "stdout",
     "output_type": "stream",
     "text": [
      "torch.Size([4, 1, 512]) torch.Size([4, 1, 512]) torch.Size([4])\n",
      "tensor([[ 0.0443,  0.0254],\n",
      "        [-0.0067, -0.0483],\n",
      "        [ 0.1287, -0.1321],\n",
      "        [ 0.0728,  0.0334]], grad_fn=<AddmmBackward0>)\n"
     ]
    }
   ],
   "source": [
    "sample_model = FakeNewsClassifier()\n",
    "for input_ids, attention_mask, labels in train_dl:\n",
    "    print(input_ids.shape, attention_mask.shape, labels.shape)\n",
    "    input_ids = input_ids.squeeze(1)\n",
    "    attention_mask = attention_mask.squeeze(1)\n",
    "    logits = sample_model(input_ids, attention_mask)\n",
    "    print(logits)\n",
    "    break"
   ]
  },
  {
   "cell_type": "code",
   "execution_count": 25,
   "id": "ad970e9d-5c53-40fb-90c7-048e498e1bba",
   "metadata": {
    "id": "ad970e9d-5c53-40fb-90c7-048e498e1bba"
   },
   "outputs": [],
   "source": [
    "def save_checkpoint(model, save_path, valid_loss):\n",
    "    if save_path == None:\n",
    "        print('Path to save the checkpoint is not valid!')\n",
    "        return\n",
    "\n",
    "    state_dict = {\n",
    "        'model_state_dict': model.state_dict, \n",
    "        'valid_loss': valid_loss\n",
    "    }\n",
    "    \n",
    "    th.save(state_dict, save_path)\n",
    "    print('Model saved to ==> {}'.format(save_path))"
   ]
  },
  {
   "cell_type": "code",
   "execution_count": 26,
   "id": "1197abd1-ea18-42d0-a0cf-38dd0fbe1ca2",
   "metadata": {
    "id": "1197abd1-ea18-42d0-a0cf-38dd0fbe1ca2"
   },
   "outputs": [],
   "source": [
    "def load_checkpoint(load_path, model):\n",
    "    \n",
    "    if load_path==None:\n",
    "        return\n",
    "    \n",
    "    state_dict = th.load(load_path, map_location=device)\n",
    "    print(f'Model loaded from <== {load_path}')\n",
    "    \n",
    "    model.load_state_dict(state_dict['model_state_dict'])\n",
    "    return state_dict['valid_loss']"
   ]
  },
  {
   "cell_type": "markdown",
   "id": "zotPAopaZToC",
   "metadata": {
    "id": "zotPAopaZToC"
   },
   "source": [
    "### Training the Model"
   ]
  },
  {
   "cell_type": "code",
   "execution_count": 27,
   "id": "26602aeb-625c-4132-a06e-84bab243b2a0",
   "metadata": {
    "id": "26602aeb-625c-4132-a06e-84bab243b2a0"
   },
   "outputs": [],
   "source": [
    "import random\n",
    "import time\n",
    "\n",
    "# Specify loss function\n",
    "loss_fn = nn.CrossEntropyLoss()\n",
    "\n",
    "def set_seed(seed_value=42):\n",
    "    \"\"\"Set seed for reproducibility.\n",
    "    \"\"\"\n",
    "    random.seed(seed_value)\n",
    "    np.random.seed(seed_value)\n",
    "    torch.manual_seed(seed_value)\n",
    "    torch.cuda.manual_seed_all(seed_value)\n",
    "\n",
    "def train(model, train_dataloader, val_dataloader, epochs=5, evaluation=False):\n",
    "    \"\"\"Train the BertClassifier model.\n",
    "    \"\"\"\n",
    "\n",
    "    val_accuracy_list = []\n",
    "    train_accuracy_list = []\n",
    "    val_loss_list = []\n",
    "    train_loss_list = []\n",
    "\n",
    "    print(\"Start training...\\n\")\n",
    "    for epoch_i in range(epochs):\n",
    "\n",
    "        train_epoch_accuracy_list = []\n",
    "        train_epoch_loss_list = []\n",
    "        \n",
    "        print(f\"{'Epoch':^7} | {'Batch':^7} | {'Train Loss':^12} | {'Val Loss':^10} | {'Val Acc':^9} | {'Elapsed':^9}\")\n",
    "        print(\"-\"*70)\n",
    "\n",
    "        t0_epoch, t0_batch = time.time(), time.time()\n",
    "\n",
    "\n",
    "        total_loss, batch_loss, batch_counts = 0, 0, 0\n",
    "\n",
    "        \n",
    "        model.train()\n",
    "\n",
    "        \n",
    "        for step, batch in enumerate(train_dataloader):\n",
    "            batch_counts +=1\n",
    "\n",
    "            b_input_ids, b_attn_mask, b_labels = tuple(t.to(device) for t in batch)\n",
    "            b_input_ids = b_input_ids.squeeze(1)\n",
    "            b_attn_mask = b_attn_mask.squeeze(1)\n",
    "\n",
    "            model.zero_grad()\n",
    "\n",
    "\n",
    "            logits = model(b_input_ids, b_attn_mask)\n",
    "\n",
    "            loss = loss_fn(logits, b_labels)\n",
    "            batch_loss += loss.item()\n",
    "            total_loss += loss.item()\n",
    "\n",
    "            preds = torch.argmax(logits, dim=1).flatten()\n",
    "\n",
    "            accuracy = (preds == b_labels).cpu().numpy().mean() * 100\n",
    "            train_epoch_accuracy_list.append(accuracy)\n",
    "            train_epoch_loss_list.append(loss.item())\n",
    "\n",
    "\n",
    "            \n",
    "            loss.backward()\n",
    "\n",
    "            # Clip the norm of the gradients to 1.0 to prevent \"exploding gradients\"\n",
    "            torch.nn.utils.clip_grad_norm_(model.parameters(), 1.0)\n",
    "\n",
    "            \n",
    "            optimizer.step()\n",
    "            scheduler.step()\n",
    "\n",
    "            # Print the loss values and time elapsed for every 20 batches\n",
    "            if (step % 20 == 0 and step != 0) or (step == len(train_dataloader) - 1):\n",
    "                # Calculate time elapsed for 20 batches\n",
    "                time_elapsed = time.time() - t0_batch\n",
    "\n",
    "                # Print training results\n",
    "                print(f\"{epoch_i + 1:^7} | {step:^7} | {batch_loss / batch_counts:^12.6f} | {'-':^10} | {'-':^9} | {time_elapsed:^9.2f}\")\n",
    "\n",
    "                # Reset batch tracking variables\n",
    "                batch_loss, batch_counts = 0, 0\n",
    "                t0_batch = time.time()\n",
    "\n",
    "        # Calculate the average loss over the entire training data\n",
    "        avg_train_loss = total_loss / len(train_dataloader)\n",
    "        train_accuracy_list.append(np.mean(train_epoch_accuracy_list))\n",
    "        train_loss_list.append(np.mean(train_epoch_loss_list))\n",
    "\n",
    "        print(\"-\"*70)\n",
    "\n",
    "        if evaluation == True:\n",
    "            \n",
    "            val_loss, val_accuracy = evaluate(model, val_dataloader)\n",
    "            val_accuracy_list.append(val_accuracy)\n",
    "            val_loss_list.append(val_loss)\n",
    "\n",
    "            \n",
    "            time_elapsed = time.time() - t0_epoch\n",
    "            \n",
    "            print(f\"{epoch_i + 1:^7} | {'-':^7} | {avg_train_loss:^12.6f} | {val_loss:^10.6f} | {val_accuracy:^9.2f} | {time_elapsed:^9.2f}\")\n",
    "            print(\"-\"*70)\n",
    "        print(\"\\n\")\n",
    "    \n",
    "    print(\"Training complete!\")\n",
    "    return train_accuracy_list, train_loss_list, val_accuracy_list, val_loss_list\n",
    "\n",
    "\n",
    "def evaluate(model, val_dataloader):\n",
    "    \"\"\"After the completion of each training epoch, measure the model's performance\n",
    "    on our validation set.\n",
    "    \"\"\"\n",
    "    \n",
    "    model.eval()\n",
    "\n",
    "    \n",
    "    val_accuracy = []\n",
    "    val_loss = []\n",
    "\n",
    "    \n",
    "    for batch in val_dataloader:\n",
    "    \n",
    "        b_input_ids, b_attn_mask, b_labels = tuple(t.to(device) for t in batch)\n",
    "        b_input_ids = b_input_ids.squeeze(1)\n",
    "        b_attn_mask = b_attn_mask.squeeze(1)\n",
    "    \n",
    "        with torch.no_grad():\n",
    "            logits = model(b_input_ids, b_attn_mask)\n",
    "\n",
    "    \n",
    "        loss = loss_fn(logits, b_labels)\n",
    "        val_loss.append(loss.item())\n",
    "\n",
    "    \n",
    "        preds = torch.argmax(logits, dim=1).flatten()\n",
    "\n",
    "    \n",
    "        accuracy = (preds == b_labels).cpu().numpy().mean() * 100\n",
    "        val_accuracy.append(accuracy)\n",
    "\n",
    "    \n",
    "    val_loss = np.mean(val_loss)\n",
    "    val_accuracy = np.mean(val_accuracy)\n",
    "\n",
    "    return val_loss, val_accuracy"
   ]
  },
  {
   "cell_type": "code",
   "execution_count": 28,
   "id": "0b589d1f-48fd-4728-bb57-413942078ac2",
   "metadata": {
    "id": "0b589d1f-48fd-4728-bb57-413942078ac2"
   },
   "outputs": [],
   "source": [
    "from transformers import AdamW, get_linear_schedule_with_warmup"
   ]
  },
  {
   "cell_type": "code",
   "execution_count": 29,
   "id": "4182d9ff-c82f-4ff9-b514-d737f52d0ccb",
   "metadata": {
    "id": "4182d9ff-c82f-4ff9-b514-d737f52d0ccb"
   },
   "outputs": [],
   "source": [
    "from transformers import AdamW, get_linear_schedule_with_warmup\n",
    "\n",
    "def initialize_model(epochs=5):\n",
    "    model = FakeNewsClassifier()\n",
    "    model.to(device)\n",
    "\n",
    "    optimizer = AdamW(model.parameters(), lr=5e-5, eps=1e-8)\n",
    "\n",
    "\n",
    "    total_steps = len(train_dl) * epochs\n",
    "\n",
    "    scheduler = get_linear_schedule_with_warmup(optimizer, num_warmup_steps=0, num_training_steps=total_steps)\n",
    "    return model, optimizer, scheduler"
   ]
  },
  {
   "cell_type": "code",
   "execution_count": null,
   "id": "cd740ebd-8dcb-4ef7-93df-da4115495795",
   "metadata": {
    "colab": {
     "base_uri": "https://localhost:8080/"
    },
    "id": "cd740ebd-8dcb-4ef7-93df-da4115495795",
    "outputId": "006c1a6b-5c7f-4be6-8c67-3ca70285ed48"
   },
   "outputs": [
    {
     "name": "stderr",
     "output_type": "stream",
     "text": [
      "Some weights of the model checkpoint at bert-base-cased were not used when initializing BertModel: ['cls.predictions.transform.dense.bias', 'cls.predictions.transform.dense.weight', 'cls.predictions.transform.LayerNorm.bias', 'cls.seq_relationship.bias', 'cls.seq_relationship.weight', 'cls.predictions.transform.LayerNorm.weight', 'cls.predictions.bias', 'cls.predictions.decoder.weight']\n",
      "- This IS expected if you are initializing BertModel from the checkpoint of a model trained on another task or with another architecture (e.g. initializing a BertForSequenceClassification model from a BertForPreTraining model).\n",
      "- This IS NOT expected if you are initializing BertModel from the checkpoint of a model that you expect to be exactly identical (initializing a BertForSequenceClassification model from a BertForSequenceClassification model).\n"
     ]
    }
   ],
   "source": [
    "set_seed(42)    # Set seed for reproducibility\n",
    "model, optimizer, scheduler = initialize_model(epochs=5)\n",
    "train_accuracy_list, train_loss_list, val_accuracy_list, val_loss_list = train(model, train_dl, val_dl, epochs=2, evaluation=True)"
   ]
  },
  {
   "cell_type": "code",
   "execution_count": null,
   "id": "40d1ac07-16aa-4d8a-88ab-50095e757209",
   "metadata": {
    "id": "40d1ac07-16aa-4d8a-88ab-50095e757209"
   },
   "outputs": [],
   "source": []
  }
 ],
 "metadata": {
  "accelerator": "GPU",
  "colab": {
   "collapsed_sections": [],
   "include_colab_link": true,
   "name": "main.ipynb",
   "provenance": []
  },
  "kernelspec": {
   "display_name": "Python 3 (ipykernel)",
   "language": "python",
   "name": "python3"
  },
  "language_info": {
   "codemirror_mode": {
    "name": "ipython",
    "version": 3
   },
   "file_extension": ".py",
   "mimetype": "text/x-python",
   "name": "python",
   "nbconvert_exporter": "python",
   "pygments_lexer": "ipython3",
   "version": "3.8.10"
  }
 },
 "nbformat": 4,
 "nbformat_minor": 5
}
